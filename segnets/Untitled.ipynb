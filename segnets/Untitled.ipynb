{
 "cells": [
  {
   "cell_type": "code",
   "execution_count": 1,
   "metadata": {},
   "outputs": [],
   "source": [
    "from __future__ import division\n",
    "import os, glob\n",
    "import shutil\n",
    "import matplotlib.pyplot as plt\n",
    "import cv2\n",
    "\n",
    "import torch\n",
    "import scipy.ndimage as ndimage\n",
    "from torch.utils.data import DataLoader, Dataset\n",
    "from PIL import Image, ImageOps\n",
    "from imageio import imread\n",
    "import pickle\n",
    "\n",
    "import random\n",
    "import numpy as np\n",
    "import numbers\n",
    "import types\n",
    "import argparse\n"
   ]
  },
  {
   "cell_type": "code",
   "execution_count": 2,
   "metadata": {},
   "outputs": [],
   "source": [
    "imgs_dir = \"E:\\data\\comma10k\\comma10k\\masks\"\n",
    "\n",
    "ids = [file for file in os.listdir(imgs_dir)]\n"
   ]
  },
  {
   "cell_type": "code",
   "execution_count": 3,
   "metadata": {},
   "outputs": [
    {
     "data": {
      "text/plain": [
       "10288"
      ]
     },
     "execution_count": 3,
     "metadata": {},
     "output_type": "execute_result"
    }
   ],
   "source": [
    "len(ids)"
   ]
  },
  {
   "cell_type": "code",
   "execution_count": 5,
   "metadata": {},
   "outputs": [
    {
     "name": "stdout",
     "output_type": "stream",
     "text": [
      "torch.Size([1208, 1928]) ['E:\\\\data\\\\comma10k\\\\comma10k\\\\masks/00000_e_20f59690c1da9379_2021-02-08--09-26-00_7_646.png']\n"
     ]
    }
   ],
   "source": [
    "for idx in ids:\n",
    "    img = glob.glob(imgs_dir + \"/\" + idx)\n",
    "    img_p = Image.open(img[0])\n",
    "    #plt.imshow(img_p)\n",
    "    img_n = np.array(img_p)\n",
    "    img_b = torch.from_numpy((img_n)).type(torch.FloatTensor)\n",
    "    print(img_b.shape, img)\n",
    "    break"
   ]
  },
  {
   "cell_type": "code",
   "execution_count": null,
   "metadata": {},
   "outputs": [],
   "source": []
  }
 ],
 "metadata": {
  "kernelspec": {
   "display_name": "Python 3",
   "language": "python",
   "name": "python3"
  },
  "language_info": {
   "codemirror_mode": {
    "name": "ipython",
    "version": 3
   },
   "file_extension": ".py",
   "mimetype": "text/x-python",
   "name": "python",
   "nbconvert_exporter": "python",
   "pygments_lexer": "ipython3",
   "version": "3.8.6"
  }
 },
 "nbformat": 4,
 "nbformat_minor": 4
}
